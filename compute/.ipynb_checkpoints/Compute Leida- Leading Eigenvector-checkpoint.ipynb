{
 "cells": [
  {
   "cell_type": "code",
   "execution_count": 1,
   "id": "ff815d3a",
   "metadata": {},
   "outputs": [],
   "source": [
    "import numpy as np\n",
    "import matplotlib.pyplot as plt\n",
    "from scipy.stats import zscore \n",
    "from scipy.sparse.linalg import eigsh\n",
    "\n",
    "from skimage.measure import block_reduce\n",
    "\n",
    "import sys\n",
    "sys.path.append('../utils')\n",
    "sys.path.append('../dFC')\n",
    "import widefield_utils\n",
    "import connectivity_measures"
   ]
  },
  {
   "cell_type": "code",
   "execution_count": 2,
   "id": "02298514",
   "metadata": {},
   "outputs": [],
   "source": [
    "import numpy as np\n",
    "import os"
   ]
  },
  {
   "cell_type": "code",
   "execution_count": 3,
   "id": "46b6d01a",
   "metadata": {},
   "outputs": [],
   "source": [
    "final_mask = np.load(r\"/home/k21208334/calcium_analyses/data/dowsampled_tight_mask.npy\")\n",
    "good_indices = np.ravel(final_mask)"
   ]
  },
  {
   "cell_type": "code",
   "execution_count": 4,
   "id": "6add71ed",
   "metadata": {},
   "outputs": [],
   "source": [
    "h=300\n",
    "w=304\n",
    "H = 50\n",
    "W = 51\n",
    "connectivity_thr = 0.2\n",
    "\n",
    "window_size = 25000\n",
    "n_comp = 10 #number of components for ICA\n",
    "\n",
    "start = 0\n",
    "end = 28\n",
    "connectivity_thr = 0.2\n",
    "\n",
    "names = [\"NXAK22.1A\",\"NXAK14.1A\",\"NXAK7.1B\",\"NXAK4.1B\",\"NRXN78.1D\",\"NRXN78.1A\"]\n",
    "names_knock = [\"NXAK24.1C\",\"NXAK20.1B\",\"NXAK16.1B\",\"NXAK10.1A\",\"NXAK4.1A\",\"NRXN71.2A\"]"
   ]
  },
  {
   "cell_type": "code",
   "execution_count": null,
   "id": "d688b3ce",
   "metadata": {},
   "outputs": [
    {
     "name": "stdout",
     "output_type": "stream",
     "text": [
      "\n",
      " starting:  NXAK22.1A\n",
      "\n",
      " starting:  NXAK14.1A\n"
     ]
    }
   ],
   "source": [
    "path = '/home/k21208334/calcium_analyses/data/leading_eigenvectors/window_size=' + str(window_size) + '/'\n",
    "if not os.path.exists(path):\n",
    "   os.makedirs(path)\n",
    "\n",
    "for name in names+names_knock: # first one already done\n",
    "\n",
    "    print(\"\\n starting: \",name)\n",
    "    walking = np.load(\"/home/k21208334/calcium_analyses/data/walking/\"+name+\".npy\")\n",
    "    base_directory = r\"/home/k21208334/calcium_analyses/data/\" + name + \"/\"\n",
    "    registered_directory = r\"/home/k21208334/calcium_analyses/data/registration_data/\" + name + \"/\"\n",
    "    sample = widefield_utils.load_registered_sample(base_directory,registered_directory,start,end)\n",
    "    coarse_sample = block_reduce(sample, block_size=(6,6,1), func=np.mean) \n",
    "    #  connectivity: flatten data\n",
    "    H = np.shape(coarse_sample)[0]\n",
    "    W = np.shape(coarse_sample)[1]\n",
    "    all_signals = np.reshape(coarse_sample,(H*W,end))\n",
    "    # remove zero signals based on mask!\n",
    "    good_indices = np.ravel(final_mask)\n",
    "    signals = all_signals[good_indices,:]\n",
    "    \n",
    "    # ok now I have the signals\n",
    "    leading_eigenvectors = np.empty((0,signals.shape[0]))\n",
    "\n",
    "    for i in range(signals.shape[1]):\n",
    "        matrix = connectivity_measures.get_instantaneous_matrix(window_size,signals,i)\n",
    "        eigenvalue, eigenvector = eigsh(matrix, k=1)\n",
    "        if np.sum(eigenvector)>0:\n",
    "            eigenvector=-eigenvector;\n",
    "        # normalize eigenvector\n",
    "        eigenvector = eigenvector/(np.linalg.norm(eigenvector))\n",
    "        leading_eigenvectors=np.vstack((leading_eigenvectors,eigenvector.T))\n",
    "        \n",
    "    tosave = path + name\n",
    "    np.save(tosave,leading_eigenvectors)"
   ]
  },
  {
   "cell_type": "markdown",
   "id": "87bfef9f",
   "metadata": {},
   "source": [
    "# NOTE: WHEN I makes sense, this will go in the Analyze part!"
   ]
  },
  {
   "cell_type": "code",
   "execution_count": 5,
   "id": "36417227",
   "metadata": {},
   "outputs": [],
   "source": [
    "eigenvectors_all = np.empty((0,np.sum(final_mask))) \n",
    "\n",
    "# load clustered data \n",
    "\n",
    "for name in names+names_knock:\n",
    "\n",
    "    data = path + name + \".npy\"\n",
    "    centr = np.load(data)\n",
    "    eigenvectors_all = np.vstack((eigenvectors_all,centr))"
   ]
  },
  {
   "cell_type": "code",
   "execution_count": null,
   "id": "c5caddb5",
   "metadata": {},
   "outputs": [],
   "source": [
    "from sklearn.decomposition import FastICA\n",
    "\n",
    "model = FastICA(n_components = n_comp,whiten='unit-variance')\n",
    "S = model.fit_transform(eigenvectors_all) # started 10.04\n",
    "\n",
    "components = model.mixing_\n",
    "np.save(path + 'ICA_signals_n_comp=' + str(n_comp) + '.npy',S)\n",
    "np.save(path + 'ICA_components_n_comp=' + str(n_comp) + '.npy',components)"
   ]
  }
 ],
 "metadata": {
  "kernelspec": {
   "display_name": "Python 3 (ipykernel)",
   "language": "python",
   "name": "python3"
  },
  "language_info": {
   "codemirror_mode": {
    "name": "ipython",
    "version": 3
   },
   "file_extension": ".py",
   "mimetype": "text/x-python",
   "name": "python",
   "nbconvert_exporter": "python",
   "pygments_lexer": "ipython3",
   "version": "3.10.9"
  }
 },
 "nbformat": 4,
 "nbformat_minor": 5
}
