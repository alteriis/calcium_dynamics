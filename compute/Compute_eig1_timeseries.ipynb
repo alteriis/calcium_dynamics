{
 "cells": [
  {
   "cell_type": "code",
   "execution_count": 1,
   "id": "92e074b2",
   "metadata": {},
   "outputs": [],
   "source": [
    "# here I will analyze degree centrality and long vs short connections in data. Static results only here. "
   ]
  },
  {
   "cell_type": "code",
   "execution_count": null,
   "id": "67e2c76b",
   "metadata": {},
   "outputs": [],
   "source": [
    "import numpy as np\n",
    "import matplotlib as plt\n",
    "\n",
    "import sys\n",
    "sys.path.append('../utils')\n",
    "sys.path.append('../dFC')\n",
    "import widefield_utils\n",
    "import connectivity_measures"
   ]
  },
  {
   "cell_type": "code",
   "execution_count": null,
   "id": "035c1574",
   "metadata": {},
   "outputs": [],
   "source": [
    "names = [\"NXAK22.1A\",\"NXAK14.1A\",\"NXAK7.1B\",\"NXAK4.1B\",\"NRXN78.1D\",\"NRXN78.1A\"]\n",
    "names_knock = [\"NXAK24.1C\",\"NXAK20.1B\",\"NXAK16.1B\",\"NXAK10.1A\",\"NXAK4.1A\",\"NRXN71.2A\"]\n",
    "\n",
    "time_end = 25000\n",
    "gaussian_std = 20\n",
    "threshold = 0.03\n",
    "window_size = 140\n",
    "\n",
    "for name in names:\n",
    "    \n",
    "    print(\"\\n starting: \",name)\n",
    "    \n",
    "    base_directory = r\"/home/k21208334/calcium_analyses/data/\" + name + \"/\"\n",
    "    output_directory = r\"/home/k21208334/calcium_analyses/data/eigenvalue_timeseries/\"\n",
    "\n",
    "    import os\n",
    "    if not os.path.exists(output_directory):\n",
    "        os.makedirs(output_directory)\n",
    "\n",
    "    sample = widefield_utils.get_delta_f_sample_from_svd_unprocessed(base_directory,0,time_end)\n",
    "    signals = widefield_utils.get_signals_from_svd_sample(sample)\n",
    "    #walking = widefield_utils.get_walking_series(base_directory,gaussian_std,threshold)\n",
    "    eig5_trace = connectivity_measures.compute_eig5_trace(signals,window_size)\n",
    "\n",
    "    file_path = output_directory + name + \"_eig5_timeseries.npy\" \n",
    "    np.save(file_path, eig5_trace)\n",
    "    #file_path = output_directory + name + \"_walking_timeseries.npy\" \n",
    "    #np.save(file_path, walking)\n",
    "    print(\"\\n done \",name)"
   ]
  },
  {
   "cell_type": "code",
   "execution_count": 7,
   "id": "d203ab4f",
   "metadata": {},
   "outputs": [
    {
     "ename": "ValueError",
     "evalue": "The truth value of an array with more than one element is ambiguous. Use a.any() or a.all()",
     "output_type": "error",
     "traceback": [
      "\u001b[0;31m---------------------------------------------------------------------------\u001b[0m",
      "\u001b[0;31mValueError\u001b[0m                                Traceback (most recent call last)",
      "Cell \u001b[0;32mIn[7], line 4\u001b[0m\n\u001b[1;32m      2\u001b[0m \u001b[38;5;28;01mfor\u001b[39;00m name \u001b[38;5;129;01min\u001b[39;00m names_knock:\n\u001b[1;32m      3\u001b[0m     file_path \u001b[38;5;241m=\u001b[39m output_directory \u001b[38;5;241m+\u001b[39m name \u001b[38;5;241m+\u001b[39m \u001b[38;5;124m\"\u001b[39m\u001b[38;5;124m_eig5_timeseries.npy\u001b[39m\u001b[38;5;124m\"\u001b[39m \n\u001b[0;32m----> 4\u001b[0m     data \u001b[38;5;241m=\u001b[39m \u001b[43mnp\u001b[49m\u001b[38;5;241;43m.\u001b[39;49m\u001b[43mload\u001b[49m\u001b[43m(\u001b[49m\u001b[43mfile_path\u001b[49m\u001b[43m,\u001b[49m\u001b[43m \u001b[49m\u001b[43meig5_trace\u001b[49m\u001b[43m)\u001b[49m\n\u001b[1;32m      5\u001b[0m     plt\u001b[38;5;241m.\u001b[39mplot(data\u001b[38;5;241m.\u001b[39mT)\n",
      "File \u001b[0;32m~/.conda/envs/calcium_analyses/lib/python3.10/site-packages/numpy/lib/npyio.py:426\u001b[0m, in \u001b[0;36mload\u001b[0;34m(file, mmap_mode, allow_pickle, fix_imports, encoding, max_header_size)\u001b[0m\n\u001b[1;32m    423\u001b[0m     \u001b[38;5;28;01mreturn\u001b[39;00m ret\n\u001b[1;32m    424\u001b[0m \u001b[38;5;28;01melif\u001b[39;00m magic \u001b[38;5;241m==\u001b[39m \u001b[38;5;28mformat\u001b[39m\u001b[38;5;241m.\u001b[39mMAGIC_PREFIX:\n\u001b[1;32m    425\u001b[0m     \u001b[38;5;66;03m# .npy file\u001b[39;00m\n\u001b[0;32m--> 426\u001b[0m     \u001b[38;5;28;01mif\u001b[39;00m mmap_mode:\n\u001b[1;32m    427\u001b[0m         \u001b[38;5;28;01mif\u001b[39;00m allow_pickle:\n\u001b[1;32m    428\u001b[0m             max_header_size \u001b[38;5;241m=\u001b[39m \u001b[38;5;241m2\u001b[39m\u001b[38;5;241m*\u001b[39m\u001b[38;5;241m*\u001b[39m\u001b[38;5;241m64\u001b[39m\n",
      "\u001b[0;31mValueError\u001b[0m: The truth value of an array with more than one element is ambiguous. Use a.any() or a.all()"
     ]
    }
   ],
   "source": [
    "import matplotlib.pyplot as plt\n",
    "for name in names_knock:\n",
    "    file_path = output_directory + name + \"_eig5_timeseries.npy\" \n",
    "    data = np.load(file_path, eig5_trace)\n",
    "    plt.plot(data.T)"
   ]
  },
  {
   "cell_type": "code",
   "execution_count": null,
   "id": "a36bd4c2",
   "metadata": {},
   "outputs": [],
   "source": []
  }
 ],
 "metadata": {
  "kernelspec": {
   "display_name": "Python 3 (ipykernel)",
   "language": "python",
   "name": "python3"
  },
  "language_info": {
   "codemirror_mode": {
    "name": "ipython",
    "version": 3
   },
   "file_extension": ".py",
   "mimetype": "text/x-python",
   "name": "python",
   "nbconvert_exporter": "python",
   "pygments_lexer": "ipython3",
   "version": "3.10.9"
  }
 },
 "nbformat": 4,
 "nbformat_minor": 5
}
