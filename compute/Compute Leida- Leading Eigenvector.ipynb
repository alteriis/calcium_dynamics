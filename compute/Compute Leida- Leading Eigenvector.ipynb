{
 "cells": [
  {
   "cell_type": "code",
   "execution_count": 2,
   "id": "ff815d3a",
   "metadata": {},
   "outputs": [],
   "source": [
    "import numpy as np\n",
    "import matplotlib.pyplot as plt\n",
    "from scipy.stats import zscore \n",
    "from scipy.sparse.linalg import eigsh\n",
    "\n",
    "from skimage.measure import block_reduce\n",
    "\n",
    "import sys\n",
    "sys.path.append('../utils')\n",
    "sys.path.append('../dFC')\n",
    "import widefield_utils\n",
    "import connectivity_measures"
   ]
  },
  {
   "cell_type": "code",
   "execution_count": 3,
   "id": "02298514",
   "metadata": {},
   "outputs": [],
   "source": [
    "import numpy as np\n",
    "import os\n",
    "\n",
    "def load_registered_sample(base_directory,registered_directory,start,end):\n",
    "    corrected_svt = np.load(os.path.join(base_directory, \"Corrected_SVT.npy\"))\n",
    "    u = np.load(os.path.join(registered_directory, \"Registered_U.npy\"))\n",
    "    delta_f_sample = np.dot(u, corrected_svt[:, start:end])\n",
    "    return delta_f_sample\n",
    "\n",
    "def normalize_periodograms(S):\n",
    "    #try to normalize each signal dividing by its maximum\n",
    "    max_values = np.max(S, axis=1)\n",
    "    # divide each row by its maximum value\n",
    "    S = S / max_values.reshape(-1, 1)\n",
    "    return S\n",
    "\n",
    "def compute_distance(i,j,H,W,loc):\n",
    "    r_i, c_i = np.unravel_index(loc[0][i], (H,W))\n",
    "    r_j, c_j = np.unravel_index(loc[0][j], (H,W))\n",
    "    return np.sqrt((r_i-r_j)^2+(c_i-c_j)^2)"
   ]
  },
  {
   "cell_type": "code",
   "execution_count": 4,
   "id": "46b6d01a",
   "metadata": {},
   "outputs": [
    {
     "data": {
      "image/png": "[encoded data removed]",
      "text/plain": [
       "<Figure size 640x480 with 1 Axes>"
      ]
     },
     "metadata": {},
     "output_type": "display_data"
    }
   ],
   "source": [
    "mask_dict = np.load(r\"/home/k21208334/calcium_analyses/data/Tight_Mask_Dict.npy\", allow_pickle=True)[()]\n",
    "\n",
    "array_indicies = np.array(mask_dict['indicies'])\n",
    "\n",
    "image = np.ravel(np.zeros((mask_dict['image_height'],mask_dict['image_width'])))\n",
    "image[array_indicies]=1\n",
    "plt.imshow(np.reshape(image,(300,304)))\n",
    "\n",
    "downsampled_tight_mask = block_reduce(np.reshape(image,(300,304)), block_size=(6,6), func=np.min) \n",
    "plt.imshow(downsampled_tight_mask)\n",
    "\n",
    "final_mask = downsampled_tight_mask>0"
   ]
  },
  {
   "cell_type": "code",
   "execution_count": 5,
   "id": "6add71ed",
   "metadata": {},
   "outputs": [],
   "source": [
    "h=300\n",
    "w=304\n",
    "connectivity_thr = 0.2\n",
    "window_size = 140\n",
    "\n",
    "start = 0\n",
    "end = 25000\n",
    "connectivity_thr = 0.2"
   ]
  },
  {
   "cell_type": "code",
   "execution_count": 6,
   "id": "ed56a8b3",
   "metadata": {},
   "outputs": [
    {
     "name": "stdout",
     "output_type": "stream",
     "text": [
      "\n",
      " starting:  NXAK22.1A\n",
      "\n",
      " starting:  NXAK14.1A\n",
      "\n",
      " starting:  NXAK7.1B\n",
      "\n",
      " starting:  NXAK4.1B\n",
      "\n",
      " starting:  NRXN78.1D\n",
      "\n",
      " starting:  NRXN78.1A\n",
      "\n",
      " starting:  NXAK24.1C\n",
      "\n",
      " starting:  NXAK20.1B\n",
      "\n",
      " starting:  NXAK16.1B\n",
      "\n",
      " starting:  NXAK10.1A\n",
      "\n",
      " starting:  NXAK4.1A\n",
      "\n",
      " starting:  NRXN71.2A\n"
     ]
    }
   ],
   "source": [
    "names = [\"NXAK22.1A\",\"NXAK14.1A\",\"NXAK7.1B\",\"NXAK4.1B\",\"NRXN78.1D\",\"NRXN78.1A\"]\n",
    "names_knock = [\"NXAK24.1C\",\"NXAK20.1B\",\"NXAK16.1B\",\"NXAK10.1A\",\"NXAK4.1A\",\"NRXN71.2A\"]\n",
    "\n",
    "for name in names+names_knock: # first one already done\n",
    "\n",
    "    print(\"\\n starting: \",name)\n",
    "    walking = np.load(\"/home/k21208334/calcium_analyses/data/walking/\"+name+\".npy\")\n",
    "    base_directory = r\"/home/k21208334/calcium_analyses/data/\" + name + \"/\"\n",
    "    registered_directory = r\"/home/k21208334/calcium_analyses/data/registration_data/\" + name + \"/\"\n",
    "    sample = load_registered_sample(base_directory,registered_directory,start,end)\n",
    "    coarse_sample = block_reduce(sample, block_size=(6,6,1), func=np.mean) \n",
    "    #  connectivity: flatten data\n",
    "    H = np.shape(coarse_sample)[0]\n",
    "    W = np.shape(coarse_sample)[1]\n",
    "    all_signals = np.reshape(coarse_sample,(H*W,end))\n",
    "    # remove zero signals based on mask!\n",
    "    good_indices = np.ravel(final_mask)\n",
    "    signals = all_signals[good_indices,:]\n",
    "    \n",
    "    # ok now I have the signals\n",
    "    leading_eigenvectors = np.empty((0,signals.shape[0]))\n",
    "\n",
    "    for i in range(signals.shape[1]):\n",
    "        matrix = connectivity_measures.get_instantaneous_matrix(window_size,signals,i)\n",
    "        eigenvalue, eigenvector = eigsh(matrix, k=1)\n",
    "        if np.sum(eigenvector)>0:\n",
    "            eigenvector=-eigenvector;\n",
    "        # normalize eigenvector\n",
    "        eigenvector = eigenvector/(np.linalg.norm(eigenvector))\n",
    "        leading_eigenvectors=np.vstack((leading_eigenvectors,eigenvector.T))\n",
    "        \n",
    "    tosave = '/home/k21208334/calcium_analyses/data/leading_eigenvectors/' + name\n",
    "    np.save(tosave,leading_eigenvectors)"
   ]
  },
  {
   "cell_type": "code",
   "execution_count": null,
   "id": "c42dadf5",
   "metadata": {},
   "outputs": [],
   "source": [
    "# NOTE: WHEN IT'S DONE, CHECK IF 1ST SUBJECT IS OK!!!!"
   ]
  },
  {
   "cell_type": "code",
   "execution_count": null,
   "id": "629b9c36",
   "metadata": {},
   "outputs": [],
   "source": [
    "# ripartire da qua quando hai finito: fare unico clustering e mettere cosine distance!"
   ]
  },
  {
   "cell_type": "code",
   "execution_count": 7,
   "id": "36417227",
   "metadata": {},
   "outputs": [],
   "source": [
    "#eigenvectors_wild = np.empty((0,signals.shape[0]))\n",
    "#eigenvectors_knock = np.empty((0,signals.shape[0]))\n",
    "eigenvectors_all = np.empty((0,signals.shape[0]))\n",
    "\n",
    "# load clustered data \n",
    "\n",
    "for name in names+names_knock:\n",
    "\n",
    "    data = '/home/k21208334/calcium_analyses/data/leading_eigenvectors/' + name + \".npy\"\n",
    "    centr = np.load(data)\n",
    "    eigenvectors_all = np.vstack((eigenvectors_all,centr))"
   ]
  },
  {
   "cell_type": "code",
   "execution_count": 8,
   "id": "b8ae08c5",
   "metadata": {},
   "outputs": [],
   "source": [
    "def plot_centrality(degree,H,W,good_indices):\n",
    "    degree_all = np.zeros(H*W)\n",
    "    degree_all[good_indices] = degree\n",
    "    fig,ax = plt.subplots()\n",
    "    ax.imshow(np.reshape(degree_all,(H,W)))\n",
    "    return fig"
   ]
  },
  {
   "cell_type": "code",
   "execution_count": 9,
   "id": "e36d65b3",
   "metadata": {},
   "outputs": [],
   "source": [
    "# plot elbow rule to decide n of clusters"
   ]
  },
  {
   "cell_type": "code",
   "execution_count": 10,
   "id": "0539d140",
   "metadata": {},
   "outputs": [
    {
     "name": "stderr",
     "output_type": "stream",
     "text": [
      "/home/k21208334/.conda/envs/calcium_analyses/lib/python3.10/site-packages/sklearn/cluster/_kmeans.py:870: FutureWarning: The default value of `n_init` will change from 10 to 'auto' in 1.4. Set the value of `n_init` explicitly to suppress the warning\n",
      "  warnings.warn(\n",
      "/home/k21208334/.conda/envs/calcium_analyses/lib/python3.10/site-packages/sklearn/cluster/_kmeans.py:870: FutureWarning: The default value of `n_init` will change from 10 to 'auto' in 1.4. Set the value of `n_init` explicitly to suppress the warning\n",
      "  warnings.warn(\n",
      "/home/k21208334/.conda/envs/calcium_analyses/lib/python3.10/site-packages/sklearn/cluster/_kmeans.py:870: FutureWarning: The default value of `n_init` will change from 10 to 'auto' in 1.4. Set the value of `n_init` explicitly to suppress the warning\n",
      "  warnings.warn(\n",
      "/home/k21208334/.conda/envs/calcium_analyses/lib/python3.10/site-packages/sklearn/cluster/_kmeans.py:870: FutureWarning: The default value of `n_init` will change from 10 to 'auto' in 1.4. Set the value of `n_init` explicitly to suppress the warning\n",
      "  warnings.warn(\n",
      "/home/k21208334/.conda/envs/calcium_analyses/lib/python3.10/site-packages/sklearn/cluster/_kmeans.py:870: FutureWarning: The default value of `n_init` will change from 10 to 'auto' in 1.4. Set the value of `n_init` explicitly to suppress the warning\n",
      "  warnings.warn(\n",
      "/home/k21208334/.conda/envs/calcium_analyses/lib/python3.10/site-packages/sklearn/cluster/_kmeans.py:870: FutureWarning: The default value of `n_init` will change from 10 to 'auto' in 1.4. Set the value of `n_init` explicitly to suppress the warning\n",
      "  warnings.warn(\n",
      "/home/k21208334/.conda/envs/calcium_analyses/lib/python3.10/site-packages/sklearn/cluster/_kmeans.py:870: FutureWarning: The default value of `n_init` will change from 10 to 'auto' in 1.4. Set the value of `n_init` explicitly to suppress the warning\n",
      "  warnings.warn(\n",
      "/home/k21208334/.conda/envs/calcium_analyses/lib/python3.10/site-packages/sklearn/cluster/_kmeans.py:870: FutureWarning: The default value of `n_init` will change from 10 to 'auto' in 1.4. Set the value of `n_init` explicitly to suppress the warning\n",
      "  warnings.warn(\n",
      "/home/k21208334/.conda/envs/calcium_analyses/lib/python3.10/site-packages/sklearn/cluster/_kmeans.py:870: FutureWarning: The default value of `n_init` will change from 10 to 'auto' in 1.4. Set the value of `n_init` explicitly to suppress the warning\n",
      "  warnings.warn(\n"
     ]
    }
   ],
   "source": [
    "from sklearn.cluster import KMeans\n",
    "\n",
    "Sum_of_squared_distances = []\n",
    "K = range(1,10)\n",
    "for k in K:\n",
    "    km = KMeans(n_clusters=k)\n",
    "    km = km.fit(eigenvectors_all)\n",
    "    Sum_of_squared_distances.append(km.inertia_)"
   ]
  },
  {
   "cell_type": "code",
   "execution_count": 11,
   "id": "a493acb2",
   "metadata": {},
   "outputs": [
    {
     "data": {
      "image/png": "[encoded data removed]",
      "text/plain": [
       "<Figure size 640x480 with 1 Axes>"
      ]
     },
     "metadata": {},
     "output_type": "display_data"
    }
   ],
   "source": [
    "plt.plot(K, Sum_of_squared_distances, 'bx-')\n",
    "plt.xlabel('k')\n",
    "plt.ylabel('Sum_of_squared_distances')\n",
    "plt.title('Elbow Method For Optimal k')\n",
    "plt.show()"
   ]
  },
  {
   "cell_type": "code",
   "execution_count": 12,
   "id": "b9bc08d3",
   "metadata": {},
   "outputs": [],
   "source": [
    "# once n of clusters decided..."
   ]
  },
  {
   "cell_type": "code",
   "execution_count": 13,
   "id": "49423651",
   "metadata": {},
   "outputs": [
    {
     "ename": "SyntaxError",
     "evalue": "invalid syntax (3945394033.py, line 1)",
     "output_type": "error",
     "traceback": [
      "\u001b[0;36m  Cell \u001b[0;32mIn[13], line 1\u001b[0;36m\u001b[0m\n\u001b[0;31m    optimal k = 5\u001b[0m\n\u001b[0m            ^\u001b[0m\n\u001b[0;31mSyntaxError\u001b[0m\u001b[0;31m:\u001b[0m invalid syntax\n"
     ]
    }
   ],
   "source": [
    "optimal k = 5\n",
    "\n",
    "km = KMeans(n_clusters=optimal_k)\n",
    "km = km.fit(eigenvectors_all)"
   ]
  },
  {
   "cell_type": "code",
   "execution_count": null,
   "id": "89266d31",
   "metadata": {},
   "outputs": [],
   "source": [
    "for i,centroid in enumerate(km.cluster_centers_):\n",
    "    fig = plot_centrality(centroid,H,W,good_indices)\n",
    "    #fig.savefig(str(i)+\"centroid\")\n"
   ]
  },
  {
   "cell_type": "code",
   "execution_count": null,
   "id": "5f302f65",
   "metadata": {},
   "outputs": [],
   "source": []
  }
 ],
 "metadata": {
  "kernelspec": {
   "display_name": "Python 3 (ipykernel)",
   "language": "python",
   "name": "python3"
  },
  "language_info": {
   "codemirror_mode": {
    "name": "ipython",
    "version": 3
   },
   "file_extension": ".py",
   "mimetype": "text/x-python",
   "name": "python",
   "nbconvert_exporter": "python",
   "pygments_lexer": "ipython3",
   "version": "3.10.9"
  }
 },
 "nbformat": 4,
 "nbformat_minor": 5
}
