{
 "cells": [
  {
   "cell_type": "code",
   "execution_count": null,
   "id": "8dccdd6f",
   "metadata": {},
   "outputs": [],
   "source": [
    "import numpy as np\n",
    "import matplotlib.pyplot as plt\n",
    "import scipy\n",
    "\n",
    "import sys\n",
    "sys.path.append('../utils')\n",
    "sys.path.append('../dFC')\n",
    "import widefield_utils\n",
    "import connectivity_measures"
   ]
  },
  {
   "cell_type": "code",
   "execution_count": null,
   "id": "30358cc8",
   "metadata": {},
   "outputs": [],
   "source": [
    "mask = np.load(r\"/home/k21208334/calcium_analyses/data/dowsampled_tight_mask.npy\")\n",
    "good_indices = np.ravel(mask)"
   ]
  },
  {
   "cell_type": "code",
   "execution_count": null,
   "id": "386ed974",
   "metadata": {},
   "outputs": [],
   "source": [
    "h=300\n",
    "w=304\n",
    "H=50 # this is the size of downsampling. We have to find a better way to do this\n",
    "W=51\n",
    "start = 0\n",
    "end = 25000\n",
    "\n",
    "names = [\"NXAK22.1A\",\"NXAK14.1A\",\"NXAK7.1B\",\"NXAK4.1B\",\"NRXN78.1D\",\"NRXN78.1A\"]\n",
    "names_knock = [\"NXAK24.1C\",\"NXAK20.1B\",\"NXAK16.1B\",\"NXAK10.1A\",\"NXAK4.1A\",\"NRXN71.2A\"]\n",
    "\n",
    "n_comp = 10 # i choose this n of components because it's the most convincing"
   ]
  },
  {
   "cell_type": "code",
   "execution_count": null,
   "id": "a8da7b03",
   "metadata": {},
   "outputs": [],
   "source": [
    "signals = np.load('/home/k21208334/calcium_analyses/data/ICA/signals_n=' + str(n_comp) + '.npy')\n",
    "comps = np.load('/home/k21208334/calcium_analyses/data/ICA/components_n=' + str(n_comp) + '.npy')"
   ]
  },
  {
   "cell_type": "code",
   "execution_count": null,
   "id": "8b32605e",
   "metadata": {},
   "outputs": [],
   "source": [
    "# For each component, I compare each ICA component absolute amplitude and I do walking vs non walking"
   ]
  },
  {
   "cell_type": "code",
   "execution_count": null,
   "id": "40e2969d",
   "metadata": {},
   "outputs": [],
   "source": [
    "# create walking timeseries note the cool python command I use:\n",
    "walking_wild = np.concatenate([np.load('/home/k21208334/calcium_analyses/data/walking/'+name+'.npy') for name in names])\n",
    "walking_knock = np.concatenate([np.load('/home/k21208334/calcium_analyses/data/walking/'+name+'.npy') for name in names_knock])\n"
   ]
  },
  {
   "cell_type": "code",
   "execution_count": null,
   "id": "ced241d4",
   "metadata": {},
   "outputs": [],
   "source": [
    "len = signals.shape[0]\n",
    "\n",
    "for i in range(n_comp):\n",
    "    fig = connectivity_measures.show_array(comps[:,i],H,W,good_indices,comps[:,i].min(),comps[:,i].max())\n",
    "    fig.set_size_inches(2,2)"
   ]
  },
  {
   "cell_type": "code",
   "execution_count": null,
   "id": "75b3a078",
   "metadata": {},
   "outputs": [],
   "source": []
  }
 ],
 "metadata": {
  "kernelspec": {
   "display_name": "Python 3 (ipykernel)",
   "language": "python",
   "name": "python3"
  },
  "language_info": {
   "codemirror_mode": {
    "name": "ipython",
    "version": 3
   },
   "file_extension": ".py",
   "mimetype": "text/x-python",
   "name": "python",
   "nbconvert_exporter": "python",
   "pygments_lexer": "ipython3",
   "version": "3.10.9"
  }
 },
 "nbformat": 4,
 "nbformat_minor": 5
}
